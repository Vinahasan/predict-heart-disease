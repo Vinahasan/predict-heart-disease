import numpy as np
import pandas as pd
from sklearn.model_selection import train_test_split
from sklearn.linear_model import LogisticRegression
from sklearn.metrics import accuracy_score

data = pd.read_csv('heartdisease.csv')
data.info()
data.head()

X = data.drop(columns='HeartDisease', axis=1)
y = data['HeartDisease']
print(X)
print(y)

X_train, X_test, y_train, y_test = train_test_split(X, y, test_size=0.2, stratify=y, random_state=2)
print(X.shape, X_train.shape, X_test.shape)

model= LogisticRegression()
model.fit(X_train, y_train)
X_train_prediction = model.predict(X_train)
training_data_accuracy = accuracy_score(X_train_prediction, y_train)
print('akurasi data training:', training_data_accuracy)
X_test_prediction = model.predict(X_test)
test_data_accuracy = accuracy_score(X_test_prediction, y_test)
print('akurasi data training:', training_data_accuracy)

input_data = (40, 140, 289, 172, 0)
input_data_as_numpy_array = np.asarray(input_data)
input_data_reshaped = input_data_as_numpy_array.reshape(1, -1)
prediction = model.predict(input_data_reshaped)
print(prediction)

if(prediction[0]==0):
    print('Congratulation, you are health!')
else:
    print('Sorry, you have heart disease')

    
## simpan model
import pickle
filename = 'heart_disease.sav'
pickle.dump(model, open(filename, 'wb'))
